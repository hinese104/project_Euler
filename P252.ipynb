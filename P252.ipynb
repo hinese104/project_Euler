{
 "cells": [
  {
   "cell_type": "markdown",
   "metadata": {},
   "source": [
    "## P252"
   ]
  },
  {
   "cell_type": "code",
   "execution_count": 1,
   "metadata": {},
   "outputs": [
    {
     "name": "stdout",
     "output_type": "stream",
     "text": [
      "[[ 527  144]\n",
      " [-488  732]]\n"
     ]
    }
   ],
   "source": [
    "import numpy as np\n",
    "def rand_gen(N):\n",
    "    \"\"\"Generate randome numbers\"\"\"\n",
    "    T = []\n",
    "    Sn = 290797\n",
    "    for n in range(N):\n",
    "        Sn = Sn**2 % 50515093\n",
    "        T.append((Sn % 2000) - 1000)\n",
    "    return T\n",
    "randoms = np.array(rand_gen(1000))\n",
    "dots = randoms.reshape([-1,2])\n",
    "print(dots[:2])"
   ]
  },
  {
   "cell_type": "code",
   "execution_count": 12,
   "metadata": {},
   "outputs": [],
   "source": [
    "def get_vector(dot1,dot2):\n",
    "    \"\"\"Get the vector between dot2 and dot1\"\"\"\n",
    "    x = dot2[0]-dot1[0]\n",
    "    y = dot2[1]-dot1[1]\n",
    "    return([x,y])\n",
    "    \n",
    "def get_angle_area(v1,v2):\n",
    "    \"\"\"Get the angle between vector v2 and v1, ranging from [-180,180]\"\"\"\n",
    "    v1_mag = np.linalg.norm(v1)\n",
    "    v2_mag = np.linalg.norm(v2)\n",
    "    \n",
    "    cos_theta = np.dot(v1,v2)/v1_mag/v2_mag\n",
    "    sin_theta = np.cross(v1,v2)/v1_mag/v2_mag\n",
    "    if sin_theta >= 0:\n",
    "        angle = np.rad2deg(np.arccos(cos_theta))\n",
    "    else:\n",
    "        angle = - np.rad2deg(np.arccos(cos_theta))\n",
    "    area = np.cross(v1,v2).tolist()/2\n",
    "    return(angle,area)\n",
    "\n",
    "global maxArea\n",
    "maxArea = 0"
   ]
  },
  {
   "cell_type": "code",
   "execution_count": 36,
   "metadata": {},
   "outputs": [],
   "source": [
    "def ck_convex(v1,v2,v3,v4):\n",
    "    \"\"\"check if the object is convex when adding a new dot\"\"\"\n",
    "    if (get_angle_area(v1,v2)[0] >= 0) and (get_angle_area(v2,v3)[0] >= 0) and (get_angle_area(v3,v4)[0] >= 0):\n",
    "        return(True)\n",
    "    else:\n",
    "        return(False)\n",
    "ck_convex([1,0],[1,1],[0.5,2],[0.5,2.1])\n",
    "\n",
    "def ck_exclusive(v2,v3,v2_,v3_):\n",
    "    \"\"\"check if any dot falls into the new triangle\"\"\"\n",
    "    if get_angle_area(v2_,v3_)[0] < 0:\n",
    "        return(False)\n",
    "    elif (get_angle_area(v2,v2_)[0] >= 0) and (get_angle_area(v3,v3_)[0] <= 0):\n",
    "        return(False)\n",
    "    else:\n",
    "        return(True)\n"
   ]
  },
  {
   "cell_type": "code",
   "execution_count": null,
   "metadata": {},
   "outputs": [],
   "source": [
    "def add_triangle(area,dot):\n",
    "    "
   ]
  },
  {
   "cell_type": "code",
   "execution_count": 13,
   "metadata": {},
   "outputs": [
    {
     "name": "stdout",
     "output_type": "stream",
     "text": [
      "[-1015, 588] [34, -1679]\n",
      "-1021762\n",
      "1684193\n"
     ]
    }
   ],
   "source": [
    "v1 = get_vector(dots[0],dots[1])\n",
    "v2 = get_vector(dots[1],dots[2])\n",
    "print(v1,v2)\n",
    "print(np.dot(v1,v2))\n",
    "print(np.cross(v1,v2))"
   ]
  },
  {
   "cell_type": "code",
   "execution_count": 16,
   "metadata": {},
   "outputs": [
    {
     "data": {
      "text/plain": [
       "121.24424607042025"
      ]
     },
     "execution_count": 16,
     "metadata": {},
     "output_type": "execute_result"
    }
   ],
   "source": [
    "get_angle_area(v1,v2)"
   ]
  },
  {
   "cell_type": "code",
   "execution_count": 22,
   "metadata": {},
   "outputs": [
    {
     "data": {
      "text/plain": [
       "11.243541102213227"
      ]
     },
     "execution_count": 22,
     "metadata": {},
     "output_type": "execute_result"
    }
   ],
   "source": [
    "get_angle_area([0.5,2],[0.2,4.1])[0]"
   ]
  },
  {
   "cell_type": "code",
   "execution_count": null,
   "metadata": {},
   "outputs": [],
   "source": []
  }
 ],
 "metadata": {
  "kernelspec": {
   "display_name": "Python 3",
   "language": "python",
   "name": "python3"
  },
  "language_info": {
   "codemirror_mode": {
    "name": "ipython",
    "version": 3
   },
   "file_extension": ".py",
   "mimetype": "text/x-python",
   "name": "python",
   "nbconvert_exporter": "python",
   "pygments_lexer": "ipython3",
   "version": "3.6.4"
  }
 },
 "nbformat": 4,
 "nbformat_minor": 2
}
