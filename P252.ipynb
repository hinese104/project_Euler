{
 "cells": [
  {
   "cell_type": "code",
   "execution_count": 2,
   "metadata": {},
   "outputs": [
    {
     "name": "stdout",
     "output_type": "stream",
     "text": [
      "[[ 527  144]\n",
      " [-488  732]]\n"
     ]
    }
   ],
   "source": [
    "import numpy as np\n",
    "def rand_gen(N):\n",
    "    \"\"\"Generate randome numbers\"\"\"\n",
    "    T = []\n",
    "    Sn = 290797\n",
    "    for n in range(N):\n",
    "        Sn = Sn**2 % 50515093\n",
    "        T.append((Sn % 2000) - 1000)\n",
    "    return T\n",
    "randoms = np.array(rand_gen(1000))\n",
    "dots = randoms.reshape([-1,2])\n",
    "print(dots[:2])"
   ]
  },
  {
   "cell_type": "code",
   "execution_count": 3,
   "metadata": {},
   "outputs": [],
   "source": [
    "def get_vector(dot1,dot2):\n",
    "    \"\"\"Get the vector between dot2 and dot1\"\"\"\n",
    "    x = dot2[0]-dot1[0]\n",
    "    y = dot2[1]-dot1[1]\n",
    "    return([x,y])\n",
    "    \n",
    "def get_angle_area(v1,v2):\n",
    "    \"\"\"Get the angle between vector v2 and v1, ranging from [-180,180]\"\"\"\n",
    "    v1_mag = np.linalg.norm(v1)\n",
    "    v2_mag = np.linalg.norm(v2)\n",
    "    \n",
    "    cos_theta = np.dot(v1,v2)/v1_mag/v2_mag\n",
    "    sin_theta = np.cross(v1,v2)/v1_mag/v2_mag\n",
    "    if sin_theta >= 0:\n",
    "        angle = np.rad2deg(np.arccos(cos_theta))\n",
    "    else:\n",
    "        angle = - np.rad2deg(np.arccos(cos_theta))\n",
    "    area = np.cross(v1,v2).tolist()/2\n",
    "    return(angle,area)\n",
    "\n",
    "maxArea = 0\n",
    "\n",
    "def max_area(acc_area):\n",
    "    global maxArea\n",
    "    maxArea = max(acc_area,maxArea)"
   ]
  },
  {
   "cell_type": "code",
   "execution_count": 4,
   "metadata": {},
   "outputs": [],
   "source": [
    "def ck_convex(v1,v2,v3,v4):\n",
    "    \"\"\"check if the object is convex when adding a new dot\"\"\"\n",
    "    convex = (get_angle_area(v1,v2)[0] >=0) and (get_angle_area(v2,v3)[0] >= 0) and (get_angle_area(v3,v4)[0] >=0)\n",
    "    return(convex)\n",
    "\n",
    "def ck_exclusive(v1,v2,v3,v4,v2_,v3_):\n",
    "    \"\"\"check if the dot falls outside the new triangle\"\"\"\n",
    "    inclusive = ck_convex(v1,v2_,v3_,v4) and (get_angle_area(v2,v2_)[0] >=0) and (get_angle_area(v3,v3_)[0] <=0)\n",
    "    return(not inclusive)\n",
    "    \n",
    "def add_one_dot(curr_list,new_dot,other_dots,acc_area):\n",
    "    \"\"\"add one dot to curr from candi and add the area of the new triangle into acc_ares\"\"\"\n",
    "    v1 = get_vector(curr_list[-2],curr_list[-1])\n",
    "    v2 = get_vector(curr_list[-1],new_dot)\n",
    "    v3 = get_vector(new_dot,curr_list[0])\n",
    "    v4 = get_vector(curr_list[0],curr_list[1])\n",
    "    convex = ck_convex(v1,v2,v3,v4)\n",
    "    exclusive = True\n",
    "    if convex and other_dots != None:\n",
    "        for x in other_dots:\n",
    "            v2_ = get_vector(curr_list[-1],x)\n",
    "            v3_ = get_vector(x,curr_list[0])\n",
    "            exclusive = ck_exclusive(v1,v2,v3,v4,v2_,v3_)\n",
    "            if not exclusive:\n",
    "                break\n",
    "    added = (convex and exclusive)\n",
    "    if added:\n",
    "        acc_area += get_angle_area(v2,v3)[1]\n",
    "    return(added, acc_area)\n",
    "\n",
    "def expand_convex_hole(curr_list,candi_dots,acc_area):\n",
    "    if candi_dots != None:\n",
    "        for x in candi_dots:\n",
    "            other_dots = candi_dots.copy()\n",
    "            other_dots.remove(x)\n",
    "            added,acc_area2 = add_one_dot(curr_list,x,other_dots,acc_area)\n",
    "            if added:\n",
    "                next_list = curr_list.copy()\n",
    "                next_list.append(x) \n",
    "                max_area(acc_area2)\n",
    "                expand_convex_hole(next_list,other_dots,acc_area2)  "
   ]
  },
  {
   "cell_type": "code",
   "execution_count": 5,
   "metadata": {},
   "outputs": [
    {
     "data": {
      "text/plain": [
       "6300.0"
      ]
     },
     "execution_count": 5,
     "metadata": {},
     "output_type": "execute_result"
    }
   ],
   "source": [
    "## ck\n",
    "maxArea = 0\n",
    "dotsList = dots.tolist()\n",
    "expand_convex_hole(dotsList[:2],dotsList[2:8],0)\n",
    "maxArea"
   ]
  },
  {
   "cell_type": "code",
   "execution_count": null,
   "metadata": {},
   "outputs": [
    {
     "name": "stdout",
     "output_type": "stream",
     "text": [
      "[0, 0]\n",
      "13658.0\n",
      "[0, 1]\n",
      "13658.0\n",
      "[0, 2]\n",
      "34649.0\n",
      "[0, 3]\n"
     ]
    }
   ],
   "source": [
    "maxArea = 0\n",
    "\n",
    "dots_list = dots.tolist()\n",
    "for i,x in enumerate(dots_list):\n",
    "    dots2 = dots_list.copy()\n",
    "    dots2.remove(x)\n",
    "    for j,y in enumerate(dots2):\n",
    "        dots3 = dots2.copy()\n",
    "        dots3.remove(y)\n",
    "        print([i,j])\n",
    "        expand_convex_hole([x,y],dots3,0)\n",
    "        print(maxArea)\n",
    "        \n",
    "maxArea"
   ]
  },
  {
   "cell_type": "code",
   "execution_count": null,
   "metadata": {},
   "outputs": [],
   "source": []
  }
 ],
 "metadata": {
  "kernelspec": {
   "display_name": "Python 3",
   "language": "python",
   "name": "python3"
  },
  "language_info": {
   "codemirror_mode": {
    "name": "ipython",
    "version": 3
   },
   "file_extension": ".py",
   "mimetype": "text/x-python",
   "name": "python",
   "nbconvert_exporter": "python",
   "pygments_lexer": "ipython3",
   "version": "3.6.4"
  }
 },
 "nbformat": 4,
 "nbformat_minor": 2
}
