{
 "cells": [
  {
   "cell_type": "markdown",
   "metadata": {},
   "source": [
    "## P1"
   ]
  },
  {
   "cell_type": "code",
   "execution_count": 8,
   "metadata": {},
   "outputs": [
    {
     "name": "stdout",
     "output_type": "stream",
     "text": [
      "3\n"
     ]
    },
    {
     "data": {
      "text/plain": [
       "233168"
      ]
     },
     "execution_count": 8,
     "metadata": {},
     "output_type": "execute_result"
    }
   ],
   "source": [
    "sum = 0\n",
    "\n",
    "for x in range(1,1000):\n",
    "    if x % 3 == 0 or x % 5 ==0:\n",
    "        print(x)\n",
    "        sum+=x"
   ]
  },
  {
   "cell_type": "markdown",
   "metadata": {},
   "source": [
    "## P2"
   ]
  },
  {
   "cell_type": "code",
   "execution_count": 32,
   "metadata": {},
   "outputs": [
    {
     "name": "stdout",
     "output_type": "stream",
     "text": [
      "2\n",
      "8\n",
      "34\n",
      "144\n",
      "610\n",
      "2584\n",
      "10946\n",
      "46368\n",
      "196418\n",
      "832040\n",
      "3524578\n"
     ]
    },
    {
     "data": {
      "text/plain": [
       "4613732"
      ]
     },
     "execution_count": 32,
     "metadata": {},
     "output_type": "execute_result"
    }
   ],
   "source": [
    "import numpy as np\n",
    "def gen_Fibonacci(upper_limit):\n",
    "    nums = []\n",
    "    nums.append(1)\n",
    "    nums.append(2)\n",
    "    while nums[-2]+nums[-1] <= upper_limit:\n",
    "        nums.append(nums[-2]+nums[-1])\n",
    "    return nums\n",
    "\n",
    "nums = gen_Fibonacci(4e6)\n",
    "\n",
    "sum = 0\n",
    "for x in nums:\n",
    "    if x % 2 == 0:\n",
    "        print(x)\n",
    "        sum += x\n",
    "sum"
   ]
  },
  {
   "cell_type": "markdown",
   "metadata": {},
   "source": [
    "## P3"
   ]
  },
  {
   "cell_type": "code",
   "execution_count": 137,
   "metadata": {
    "scrolled": true
   },
   "outputs": [
    {
     "data": {
      "text/plain": [
       "6857"
      ]
     },
     "execution_count": 137,
     "metadata": {},
     "output_type": "execute_result"
    }
   ],
   "source": [
    "def ck_prime(num):\n",
    "    x = 2\n",
    "    while num % x != 0:\n",
    "        x+=1\n",
    "#     is_prime = any((num % np.array(range(2,num)))==0)==False ## Vectorized version (memory issue)\n",
    "    return(x==num)\n",
    "\n",
    "def find_max_prime(num):\n",
    "    for x in range(2,600851475143+1):\n",
    "#         if x % 10000 == 0:\n",
    "#             print(x)\n",
    "        if num % x == 0:\n",
    "            if ck_prime(num / x):\n",
    "                return(int(num / x))\n",
    "        \n",
    "find_max_prime(600851475143)"
   ]
  },
  {
   "cell_type": "markdown",
   "metadata": {},
   "source": [
    "## P64"
   ]
  },
  {
   "cell_type": "code",
   "execution_count": 45,
   "metadata": {},
   "outputs": [],
   "source": [
    "import numpy as np\n",
    "def next_set(N,b,c):\n",
    "    \"\"\"\n",
    "    Helper function to get next set based on N, bn and cn\n",
    "    For the special case of initialization, set b0 = np.floor(np.sqrt(N)) and c0 = 1\n",
    "    \"\"\"\n",
    "    rt = np.floor(np.sqrt(N))\n",
    "    c2 = (N - b**2)/c\n",
    "    a2 = np.floor((b+rt)/c2)\n",
    "    b2 = a2*c2 -b\n",
    "    assert(c2.is_integer())\n",
    "    return(int(a2),int(b2),int(c2))\n",
    "\n",
    "def get_period(N):\n",
    "    if np.sqrt(N).is_integer():\n",
    "        return(0)\n",
    "    else:\n",
    "        a1,b1,c1 = next_set(N,np.floor(np.sqrt(N)),1)\n",
    "        i=1\n",
    "        an,bn,cn = next_set(N,b1,c1)\n",
    "        while (an,bn,cn) != (a1,b1,c1):\n",
    "            an,bn,cn = next_set(N,bn,cn)\n",
    "            i+=1\n",
    "        return(i)\n",
    "    \n",
    "store = []\n",
    "for N in range(1,10001):\n",
    "    if get_period(N) % 2 == 1:\n",
    "        store.append(N)\n",
    "print(len(store))"
   ]
  },
  {
   "cell_type": "markdown",
   "metadata": {},
   "source": [
    "## P252"
   ]
  },
  {
   "cell_type": "code",
   "execution_count": 5,
   "metadata": {},
   "outputs": [
    {
     "name": "stdout",
     "output_type": "stream",
     "text": [
      "[[ 527  144]\n",
      " [-488  732]]\n"
     ]
    }
   ],
   "source": [
    "import numpy as np\n",
    "def rand_gen(N):\n",
    "    \"\"\"Generate randome numbers\"\"\"\n",
    "    T = []\n",
    "    Sn = 290797\n",
    "    for n in range(N):\n",
    "        Sn = Sn**2 % 50515093\n",
    "        T.append((Sn % 2000) - 1000)\n",
    "    return T\n",
    "randoms = np.array(rand_gen(1000))\n",
    "dots = randoms.reshape([-1,2])\n",
    "print(dots[:2])"
   ]
  },
  {
   "cell_type": "code",
   "execution_count": 49,
   "metadata": {},
   "outputs": [],
   "source": [
    "def get_vector(dot1,dot2):\n",
    "    x = dot2[0]-dot1[0]\n",
    "    y = dot2[1]-dot1[1]\n",
    "    return([x,y])\n",
    "    \n",
    "def get_angle_area(v1,v2):\n",
    "    v1_mag = np.linalg.norm(v1)\n",
    "    v2_mag = np.linalg.norm(v2)\n",
    "    \n",
    "    cos_theta = np.dot(v1,v2)/v1_mag/v2_mag\n",
    "    sin_theta = np.cross(v1,v2)/v1_mag/v2_mag\n",
    "    if sin_theta>0:\n",
    "        angle = np.rad2deg(np.arccos(cos_theta))\n",
    "    else:\n",
    "        angle = 360 - np.rad2deg(np.arccos(cos_theta))\n",
    "    area = np.cross(v1,v2).tolist()/2\n",
    "    return(angle,area)\n",
    "\n",
    "global maxArea\n",
    "maxArea = 0\n"
   ]
  },
  {
   "cell_type": "code",
   "execution_count": 50,
   "metadata": {},
   "outputs": [
    {
     "name": "stdout",
     "output_type": "stream",
     "text": [
      "[-1015, 588] [34, -1679]\n",
      "-1021762\n",
      "1684193\n"
     ]
    }
   ],
   "source": [
    "v1 = get_vector(dots[0],dots[1])\n",
    "v2 = get_vector(dots[1],dots[2])\n",
    "print(v1,v2)\n",
    "print(np.dot(v1,v2))\n",
    "print(np.cross(v1,v2))"
   ]
  },
  {
   "cell_type": "code",
   "execution_count": 51,
   "metadata": {},
   "outputs": [
    {
     "data": {
      "text/plain": [
       "(45.00000000000001, 0.5)"
      ]
     },
     "execution_count": 51,
     "metadata": {},
     "output_type": "execute_result"
    }
   ],
   "source": [
    "get_angle_area([1,0],[1,1])"
   ]
  },
  {
   "cell_type": "code",
   "execution_count": 39,
   "metadata": {},
   "outputs": [
    {
     "data": {
      "text/plain": [
       "1684193"
      ]
     },
     "execution_count": 39,
     "metadata": {},
     "output_type": "execute_result"
    }
   ],
   "source": []
  },
  {
   "cell_type": "code",
   "execution_count": 18,
   "metadata": {},
   "outputs": [
    {
     "data": {
      "text/plain": [
       "(-0.5793103448275863, 449.29655172413794)"
      ]
     },
     "execution_count": 18,
     "metadata": {},
     "output_type": "execute_result"
    }
   ],
   "source": [
    "\n",
    "def get_curve(dot1,dot2):\n",
    "    x1,y1 = dot1[0],dot1[1]\n",
    "    x2,y2 = dot2[0],dot2[1]\n",
    "    k = (y1-y2)/(x1-x2)\n",
    "    b = y1 - k*x1\n",
    "    return(k,b)\n",
    "line_const(dots[0],dots[1])\n",
    "\n",
    "def is_valid(dots_included,dot_new,dots_else):\n",
    "    "
   ]
  },
  {
   "cell_type": "code",
   "execution_count": null,
   "metadata": {},
   "outputs": [],
   "source": []
  },
  {
   "cell_type": "code",
   "execution_count": 10,
   "metadata": {},
   "outputs": [],
   "source": [
    "def mul(N):\n",
    "    if N==1:\n",
    "        return(1)\n",
    "    else:\n",
    "        return(int(N*mul(N-1)))"
   ]
  },
  {
   "cell_type": "code",
   "execution_count": 12,
   "metadata": {},
   "outputs": [
    {
     "data": {
      "text/plain": [
       "1220136825991110068701238785423046926253574342803192842192413588385845373153881997605496447502203281863013616477148203584163378722078177200480785205159329285477907571939330603772960859086270429174547882424912726344305670173270769461062802310452644218878789465754777149863494367781037644274033827365397471386477878495438489595537537990423241061271326984327745715546309977202781014561081188373709531016356324432987029563896628911658974769572087926928871281780070265174507768410719624390394322536422605234945850129918571501248706961568141625359056693423813008856249246891564126775654481886506593847951775360894005745238940335798476363944905313062323749066445048824665075946735862074637925184200459369692981022263971952597190945217823331756934581508552332820762820023402626907898342451712006207714640979456116127629145951237229913340169552363850942885592018727433795173014586357570828355780158735432768888680120399882384702151467605445407663535984174430480128938313896881639487469658817504506926365338175055478128640000000000000000000000000000000000000000000000000000000000000000000000000000000000000000000000000000000000000000000000000000"
      ]
     },
     "execution_count": 12,
     "metadata": {},
     "output_type": "execute_result"
    }
   ],
   "source": [
    "mul(500)"
   ]
  },
  {
   "cell_type": "code",
   "execution_count": null,
   "metadata": {},
   "outputs": [],
   "source": []
  }
 ],
 "metadata": {
  "kernelspec": {
   "display_name": "Python 3",
   "language": "python",
   "name": "python3"
  },
  "language_info": {
   "codemirror_mode": {
    "name": "ipython",
    "version": 3
   },
   "file_extension": ".py",
   "mimetype": "text/x-python",
   "name": "python",
   "nbconvert_exporter": "python",
   "pygments_lexer": "ipython3",
   "version": "3.6.4"
  }
 },
 "nbformat": 4,
 "nbformat_minor": 2
}
